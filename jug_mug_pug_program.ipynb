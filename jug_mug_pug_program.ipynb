{
  "nbformat": 4,
  "nbformat_minor": 0,
  "metadata": {
    "colab": {
      "provenance": []
    },
    "kernelspec": {
      "name": "python3",
      "display_name": "Python 3"
    },
    "language_info": {
      "name": "python"
    }
  },
  "cells": [
    {
      "cell_type": "code",
      "execution_count": null,
      "metadata": {
        "colab": {
          "base_uri": "https://localhost:8080/"
        },
        "id": "gGuIh5RuSTzZ",
        "outputId": "f8de5855-6bff-4a28-d9bf-bb8d3d0d5793"
      },
      "outputs": [
        {
          "output_type": "stream",
          "name": "stdout",
          "text": [
            "105\n",
            "JugsMugsPugs\n",
            "Jugs\n",
            "Mugs\n",
            "Pugs\n",
            "JugsMugs\n",
            "JugsPugs\n",
            "MugsPugs\n",
            "JugsMugsPugs\n"
          ]
        }
      ],
      "source": [
        "n=int(input())\n",
        "if n%3==0 and n%5==0 and n%7==0:\n",
        "  print('JugsMugsPugs')\n",
        "if n %3==0:\n",
        "    print('Jugs')\n",
        "if n %5==0:\n",
        "    print('Mugs')\n",
        "if n %7==0:\n",
        "    print('Pugs')\n",
        "if n%3==0 and n%5==0:\n",
        "  print('JugsMugs')\n",
        "if n%3==0 and n%7==0:\n",
        "  print('JugsPugs')\n",
        "if n%5==0 and n%7==0:\n",
        "  print('MugsPugs')\n",
        "if n%3==0 and n%5==0 and n%7==0:\n",
        "  print('JugsMugsPugs')\n",
        "else:\n",
        "    print(n)"
      ]
    },
    {
      "cell_type": "code",
      "source": [
        "n=int(input())\n",
        "l1=[3,5,7]\n",
        "l2=['jugs','mugs','pugs']\n",
        "for i in l1:\n",
        "  if n%i==0:\n",
        "    a= l1.index(i)\n",
        "    print(l2[a],end=' ')"
      ],
      "metadata": {
        "colab": {
          "base_uri": "https://localhost:8080/"
        },
        "id": "ncQtsfMuSUlV",
        "outputId": "405022cb-925f-414d-cd0e-d9cf3b07fdba"
      },
      "execution_count": null,
      "outputs": [
        {
          "output_type": "stream",
          "name": "stdout",
          "text": [
            "105\n",
            "jugs mugs pugs "
          ]
        }
      ]
    },
    {
      "cell_type": "code",
      "source": [
        "n=int(input())\n",
        "l1=[3,5,7]\n",
        "l2=['jugs','mugs','pugs']\n",
        "res=[]\n",
        "for i in range(len(l1)):\n",
        "  if n%l1[i]==0:\n",
        "    res.append(l2[i])\n",
        "print(res[::-1] ,end=' ')"
      ],
      "metadata": {
        "colab": {
          "base_uri": "https://localhost:8080/"
        },
        "id": "skESBy_2dHz3",
        "outputId": "fbf61aa1-f2fe-47b6-be1d-a70d2bcc1d55"
      },
      "execution_count": null,
      "outputs": [
        {
          "output_type": "stream",
          "name": "stdout",
          "text": [
            "105\n",
            "['pugs', 'mugs', 'jugs'] "
          ]
        }
      ]
    },
    {
      "cell_type": "code",
      "source": [],
      "metadata": {
        "id": "sgfBDC7peg_v"
      },
      "execution_count": null,
      "outputs": []
    }
  ]
}